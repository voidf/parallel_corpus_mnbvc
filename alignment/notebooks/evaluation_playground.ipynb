{
 "cells": [
  {
   "cell_type": "code",
   "execution_count": 112,
   "id": "8c26af18",
   "metadata": {},
   "outputs": [
    {
     "name": "stderr",
     "output_type": "stream",
     "text": [
      "Reusing dataset un_pc (/home/jia/.cache/huggingface/datasets/un_pc/en-zh/1.0.0/1360070a820db42f7427f5a98416dd3a1c956ae069b994bf2ec0b83ae16dcaee)\n"
     ]
    },
    {
     "data": {
      "application/vnd.jupyter.widget-view+json": {
       "model_id": "3a21add4d0ce4d71b0e15af9459a4da5",
       "version_major": 2,
       "version_minor": 0
      },
      "text/plain": [
       "  0%|          | 0/1 [00:00<?, ?it/s]"
      ]
     },
     "metadata": {},
     "output_type": "display_data"
    }
   ],
   "source": [
    "from datasets import load_dataset\n",
    "\n",
    "\n",
    "dataset = load_dataset(\"un_pc\", \"en-zh\")"
   ]
  },
  {
   "cell_type": "code",
   "execution_count": 113,
   "id": "78321a47",
   "metadata": {},
   "outputs": [],
   "source": [
    "def jaccard_similarity(list1, list2):\n",
    "    intersection = len(list(set(list1).intersection(list2)))\n",
    "    union = (len(set(list1)) + len(set(list2))) - intersection\n",
    "    return float(intersection) / union"
   ]
  },
  {
   "cell_type": "code",
   "execution_count": 114,
   "id": "f7a419ad",
   "metadata": {},
   "outputs": [
    {
     "data": {
      "text/plain": [
       "[{'en': 'RESOLUTION 918 (1994)', 'zh': '第918(1994)号决议'},\n",
       " {'en': 'Adopted by the Security Council at its 3377th meeting, on 17 May 1994',\n",
       "  'zh': '1994年5月17日安全理事会第3377次会议通过'},\n",
       " {'en': 'The Security Council,', 'zh': '安全理事会，'},\n",
       " {'en': 'Reaffirming all its previous resolutions on the situation in Rwanda, in particular its resolution 872 (1993) of 5 October 1993 by which it established the United Nations Assistance Mission for Rwanda (UNAMIR), its resolution 909 (1994) of 5 April 1994 which extended the mandate of UNAMIR until 29 July 1994, and its resolution 912 (1994) of 21 April 1994 by which it adjusted the mandate of UNAMIR,',\n",
       "  'zh': '重申其以往关于卢旺达局势的所有决议，特别是成立联合国卢旺达援助团(联卢援助团)的1993年10月5日第872(1993)号决议，延长联卢援助团任务期限至1994年7月29日的1994年4月5日第909(1994)号决议，以及调整联卢援助团的任务规定的1994年4月21日第912(1994)号决议，'},\n",
       " {'en': 'Recalling the statements made by the President of the Council on 7 April 1994 (S/PRST/1994/16) and 30 April 1994 (S/PRST/1994/21),',\n",
       "  'zh': '回顾安理会主席以安理会名义在1994年4月7日发表的声明(S/PRST/ 1994/16)和在1994年4月30日发表的声明(S/PRST/1994/21)，'}]"
      ]
     },
     "execution_count": 114,
     "metadata": {},
     "output_type": "execute_result"
    }
   ],
   "source": [
    "dataset['train'][:5]['translation']"
   ]
  },
  {
   "cell_type": "code",
   "execution_count": 115,
   "id": "7f8c477b",
   "metadata": {},
   "outputs": [
    {
     "name": "stderr",
     "output_type": "stream",
     "text": [
      "/home/jia/workspace/bigcode-project/hf_dev/lib/python3.10/site-packages/transformers/models/marian/tokenization_marian.py:198: UserWarning: Recommended: pip install sacremoses.\n",
      "  warnings.warn(\"Recommended: pip install sacremoses.\")\n"
     ]
    }
   ],
   "source": [
    "import transformers\n",
    "from transformers import AutoTokenizer, AutoModelForSeq2SeqLM\n",
    "tokenizer = AutoTokenizer.from_pretrained(\"Helsinki-NLP/opus-mt-zh-en\")\n",
    "model = AutoModelForSeq2SeqLM.from_pretrained(\"Helsinki-NLP/opus-mt-zh-en\")"
   ]
  },
  {
   "cell_type": "code",
   "execution_count": 124,
   "id": "d166b237",
   "metadata": {},
   "outputs": [],
   "source": [
    "sample = dataset['train'][53]['translation']\n",
    "text_en = sample['en']\n",
    "text = sample['zh']\n",
    "tokenized_text = tokenizer.prepare_seq2seq_batch([text], return_tensors='pt')\n",
    "translation = model.generate(**tokenized_text)\n",
    "translated_text = tokenizer.batch_decode(translation, skip_special_tokens=True)[0]"
   ]
  },
  {
   "cell_type": "code",
   "execution_count": 125,
   "id": "1f8cfe12",
   "metadata": {},
   "outputs": [],
   "source": [
    "score = jaccard_similarity(text_en.split(), translated_text.split())"
   ]
  },
  {
   "cell_type": "code",
   "execution_count": 126,
   "id": "f30d6c7a",
   "metadata": {},
   "outputs": [
    {
     "name": "stdout",
     "output_type": "stream",
     "text": [
      "Raw text in english:\n",
      "APPLICATIONS OF SPACE TECHNIQUES TO PREVENT AND COMBAT NATURAL DISASTERS, ORGANIZED IN COOPERATION\n",
      "\n",
      "Raw text in chinese:\n",
      "关于应用空间技术预防和对抗自然灾害讲习班报告\n",
      "\n",
      "Translated text in english:\n",
      "Report on the Workshop on Space Technology Applications for Natural Disaster Prevention and Response\n",
      "\n",
      "similarity score 0.0\n"
     ]
    }
   ],
   "source": [
    "print(\"Raw text in english:\")\n",
    "print(text_en)\n",
    "print()\n",
    "print(\"Raw text in chinese:\")\n",
    "print(text)\n",
    "print()\n",
    "print(\"Translated text in english:\")\n",
    "print(translated_text)\n",
    "print()\n",
    "print(f\"similarity score {score}\")"
   ]
  },
  {
   "cell_type": "code",
   "execution_count": 122,
   "id": "49ee0104",
   "metadata": {},
   "outputs": [],
   "source": [
    "from tqdm import tqdm"
   ]
  },
  {
   "cell_type": "code",
   "execution_count": 64,
   "id": "4de60ee5",
   "metadata": {},
   "outputs": [
    {
     "name": "stderr",
     "output_type": "stream",
     "text": [
      "  0%|                                                                                                                                                                              | 0/100 [00:00<?, ?it/s]/home/jia/workspace/bigcode-project/hf_dev/lib/python3.10/site-packages/transformers/tokenization_utils_base.py:3557: FutureWarning: \n",
      "`prepare_seq2seq_batch` is deprecated and will be removed in version 5 of HuggingFace Transformers. Use the regular\n",
      "`__call__` method to prepare your inputs and the tokenizer under the `as_target_tokenizer` context manager to prepare\n",
      "your targets.\n",
      "\n",
      "Here is a short example:\n",
      "\n",
      "model_inputs = tokenizer(src_texts, ...)\n",
      "with tokenizer.as_target_tokenizer():\n",
      "    labels = tokenizer(tgt_texts, ...)\n",
      "model_inputs[\"labels\"] = labels[\"input_ids\"]\n",
      "\n",
      "See the documentation of your specific tokenizer for more details on the specific arguments to the tokenizer of choice.\n",
      "For a more complete example, see the implementation of `prepare_seq2seq_batch`.\n",
      "\n",
      "  warnings.warn(formatted_warning, FutureWarning)\n",
      "100%|████████████████████████████████████████████████████████████████████████████████████████████████████████████████████████████████████████████████████████████████████| 100/100 [00:58<00:00,  1.70it/s]\n"
     ]
    }
   ],
   "source": [
    "all_scores = []\n",
    "for sample in tqdm(dataset['train'].select(range(100))):\n",
    "    text_en = sample['translation']['en']\n",
    "    text = sample['translation']['zh']\n",
    "    tokenized_text = tokenizer.prepare_seq2seq_batch([text], return_tensors='pt')\n",
    "    translation = model.generate(**tokenized_text)\n",
    "    translated_text = tokenizer.batch_decode(translation, skip_special_tokens=True)[0]\n",
    "    score = jaccard_similarity(text_en.split(), translated_text.split())\n",
    "    all_scores.append(score)"
   ]
  },
  {
   "cell_type": "code",
   "execution_count": 70,
   "id": "4e0b3726",
   "metadata": {},
   "outputs": [
    {
     "name": "stdout",
     "output_type": "stream",
     "text": [
      "%pylab is deprecated, use %matplotlib inline and import the required libraries.\n",
      "Populating the interactive namespace from numpy and matplotlib\n"
     ]
    },
    {
     "name": "stderr",
     "output_type": "stream",
     "text": [
      "/home/jia/workspace/bigcode-project/hf_dev/lib/python3.10/site-packages/IPython/core/magics/pylab.py:162: UserWarning: pylab import has clobbered these variables: ['sample', 'text']\n",
      "`%matplotlib` prevents importing * from pylab and numpy\n",
      "  warn(\"pylab import has clobbered these variables: %s\"  % clobbered +\n"
     ]
    }
   ],
   "source": [
    "%pylab inline"
   ]
  },
  {
   "cell_type": "code",
   "execution_count": 71,
   "id": "97b621c3",
   "metadata": {},
   "outputs": [
    {
     "data": {
      "text/plain": [
       "[0.5,\n",
       " 1.0,\n",
       " 1.0,\n",
       " 0.9347826086956522,\n",
       " 0.8888888888888888,\n",
       " 0.9090909090909091,\n",
       " 1.0,\n",
       " 0.2926829268292683,\n",
       " 0.9166666666666666,\n",
       " 0.45714285714285713]"
      ]
     },
     "execution_count": 71,
     "metadata": {},
     "output_type": "execute_result"
    }
   ],
   "source": [
    "all_scores[:10]"
   ]
  },
  {
   "cell_type": "code",
   "execution_count": 72,
   "id": "397856e9",
   "metadata": {},
   "outputs": [
    {
     "data": {
      "image/png": "[encoded data removed]",
      "text/plain": [
       "<Figure size 640x480 with 1 Axes>"
      ]
     },
     "metadata": {},
     "output_type": "display_data"
    }
   ],
   "source": [
    "plt.hist(all_scores)"
   ]
  },
  {
   "cell_type": "code",
   "execution_count": 123,
   "id": "64ecc4af",
   "metadata": {},
   "outputs": [
    {
     "data": {
      "text/plain": [
       "array([52, 53, 57, 21, 47, 60, 63, 66, 95,  7, 74, 98, 28, 10, 85, 65, 32,\n",
       "       13, 69, 31, 58, 25, 24, 71, 12,  9, 83, 80, 86, 61,  0, 42, 81, 68,\n",
       "       27, 48, 30, 77, 88, 41, 15, 84, 93, 59, 79, 90, 76, 16, 64, 22, 82,\n",
       "       73, 99, 29, 26, 50, 40, 92, 72, 14, 91, 87, 62, 70, 96, 17, 45, 19,\n",
       "       33, 44, 49, 39, 11, 67, 35, 89, 75, 97, 78, 43, 46, 34, 94,  4,  5,\n",
       "       23,  8, 20,  3, 18, 38, 51, 56, 55,  2, 37,  1, 54, 36,  6])"
      ]
     },
     "execution_count": 123,
     "metadata": {},
     "output_type": "execute_result"
    }
   ],
   "source": [
    "np.argsort(all_scores)"
   ]
  },
  {
   "cell_type": "code",
   "execution_count": 104,
   "id": "2ca65fa4",
   "metadata": {},
   "outputs": [],
   "source": [
    "class JaccardCalculator:\n",
    "    \n",
    "    def __init__(self, dataset):\n",
    "        self.dataset = dataset\n",
    "        self._scores = {}\n",
    "    \n",
    "    def compute(self, i, j):\n",
    "        if (i, j) not in self._scores:\n",
    "            sample_i = self.dataset[i]\n",
    "            sample_j = self.dataset[j]\n",
    "            \n",
    "            text_en = sample_i['translation']['en']\n",
    "            text = sample_j['translation']['zh']\n",
    "            tokenized_text = tokenizer.prepare_seq2seq_batch([text], return_tensors='pt')\n",
    "            translation = model.generate(**tokenized_text)\n",
    "            translated_text = tokenizer.batch_decode(translation, skip_special_tokens=True)[0]\n",
    "            self._scores[(i, j)] = jaccard_similarity(text_en.split(), translated_text.split())\n",
    "        return self._scores[(i, j)]\n",
    "\n",
    "    def best_voisin(self, i):\n",
    "        start = max(i-5, 0)\n",
    "        scores = []\n",
    "        for k in range(start, i+5):\n",
    "            scores.append(self.compute(i, k))\n",
    "        return start + np.argsort(scores)[-1]"
   ]
  },
  {
   "cell_type": "code",
   "execution_count": 105,
   "id": "68044235",
   "metadata": {},
   "outputs": [],
   "source": [
    "jc = JaccardCalculator(dataset['train'])"
   ]
  },
  {
   "cell_type": "code",
   "execution_count": 106,
   "id": "cffd7cbb",
   "metadata": {},
   "outputs": [
    {
     "data": {
      "text/plain": [
       "0.06521739130434782"
      ]
     },
     "execution_count": 106,
     "metadata": {},
     "output_type": "execute_result"
    }
   ],
   "source": [
    "jc.compute(10, 9)"
   ]
  },
  {
   "cell_type": "code",
   "execution_count": 108,
   "id": "92eaacb6",
   "metadata": {},
   "outputs": [
    {
     "name": "stderr",
     "output_type": "stream",
     "text": [
      "100%|██████████████████████████████████████████████████████████████████████████████████████████████████████████████████████████████████████████████████████████████████████| 20/20 [02:15<00:00,  6.76s/it]\n"
     ]
    }
   ],
   "source": [
    "predict_alignment = []\n",
    "for i in tqdm(range(20)):\n",
    "    predict_alignment.append(jc.best_voisin(i))"
   ]
  },
  {
   "cell_type": "code",
   "execution_count": 110,
   "id": "c91e0846",
   "metadata": {},
   "outputs": [],
   "source": [
    "from sklearn import metrics"
   ]
  },
  {
   "cell_type": "code",
   "execution_count": 111,
   "id": "ee202056",
   "metadata": {},
   "outputs": [
    {
     "data": {
      "text/plain": [
       "1.0"
      ]
     },
     "execution_count": 111,
     "metadata": {},
     "output_type": "execute_result"
    }
   ],
   "source": [
    "metrics.accuracy_score(np.array(predict_alignment), np.arange(20))"
   ]
  },
  {
   "cell_type": "code",
   "execution_count": null,
   "id": "c54879e3",
   "metadata": {},
   "outputs": [],
   "source": []
  }
 ],
 "metadata": {
  "kernelspec": {
   "display_name": "Python 3.10.7 64-bit",
   "language": "python",
   "name": "python3"
  },
  "language_info": {
   "codemirror_mode": {
    "name": "ipython",
    "version": 3
   },
   "file_extension": ".py",
   "mimetype": "text/x-python",
   "name": "python",
   "nbconvert_exporter": "python",
   "pygments_lexer": "ipython3",
   "version": "3.10.7"
  },
  "vscode": {
   "interpreter": {
    "hash": "28e970cc9655ebfb7a7b36e903a6ebdd8ba05d9cfda6b48402d7e4ea8512bc63"
   }
  }
 },
 "nbformat": 4,
 "nbformat_minor": 5
}
